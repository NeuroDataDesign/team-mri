{
 "cells": [
  {
   "cell_type": "markdown",
   "metadata": {},
   "source": [
    "# Estimation Methods of dMRI Registration"
   ]
  },
  {
   "cell_type": "markdown",
   "metadata": {},
   "source": [
    "# General"
   ]
  },
  {
   "cell_type": "markdown",
   "metadata": {},
   "source": [
    "The registration problem is to find the best geometric alignment of two (volumetric brain) images. Call the two images the reference (Y) and the floating (X) images. The registration problem seeks the transformation matrix which, when applied to the floating image, maximizes the similarity between this transformed floating image and the reference image.\n",
    "\n",
    "A standard, and common, way of formulating this as a mathematical problem is to construct a cost function which quantifies the dissimilarity between two images, and then search for the transformation ($\\hat{T}$) which gives the minimum cost. In mathematical notation this is:\n",
    "$$\n",
    "\\begin{equation}\n",
    "\\hat{T}=arg \\min_{T}C(Y, T(X))\n",
    "\\label{eq:(1)}\n",
    "\\end{equation}\n",
    "$$\n",
    "where $T\\in${set of affine transformation matrices}."
   ]
  },
  {
   "cell_type": "markdown",
   "metadata": {},
   "source": [
    "## Types of Cost Functions"
   ]
  },
  {
   "cell_type": "markdown",
   "metadata": {},
   "source": [
    "There are different cost functions for image registration problems, either geometrically-based ones or intensity-based ones."
   ]
  },
  {
   "cell_type": "markdown",
   "metadata": {},
   "source": [
    "| Cost Function | Definition | Notes |\n",
    "| :---: | :---: | :---: |\n",
    "| Least Squares | $\\Sigma(Y-X)^2$ | pointwise |\n",
    "| Normalized Correlation | $\\frac{\\Sigma(X,Y)}{(\\Sigma X^2)^{0.5}(\\Sigma Y^2)^{0.5}}$ |  |\n",
    "| Correlation Ratio | $\\frac{1}{var(Y)}\\Sigma_k \\frac{n_k}{N}var(Y_k)$ |  |\n",
    "| Mutual Info | $H(X,Y)-H(X)-H(Y)$ | standard entropy definition |\n",
    "| Boundary-based[1] |  |  |"
   ]
  },
  {
   "cell_type": "markdown",
   "metadata": {},
   "source": [
    "[1]（URL 'https://www.brainvoyager.com/bv/doc/UsersGuide/Coregistration/Boundary-BasedRegistration.html'）"
   ]
  },
  {
   "cell_type": "markdown",
   "metadata": {},
   "source": [
    "## Ndmg Pipelines"
   ]
  },
  {
   "cell_type": "markdown",
   "metadata": {},
   "source": [
    "In ndmg, the \"FLIRT\" command is called using cost functions like MutualInfo and bbr.\n",
    "\n",
    "MutualInfo is used in both flirt and dipy affine registrations. It can be replaced. We need to add Boundary-Based registration cost function into pure python."
   ]
  },
  {
   "cell_type": "code",
   "execution_count": null,
   "metadata": {},
   "outputs": [],
   "source": []
  }
 ],
 "metadata": {
  "kernelspec": {
   "display_name": "Python 3",
   "language": "python",
   "name": "python3"
  },
  "language_info": {
   "codemirror_mode": {
    "name": "ipython",
    "version": 3
   },
   "file_extension": ".py",
   "mimetype": "text/x-python",
   "name": "python",
   "nbconvert_exporter": "python",
   "pygments_lexer": "ipython3",
   "version": "3.7.3"
  }
 },
 "nbformat": 4,
 "nbformat_minor": 2
}
