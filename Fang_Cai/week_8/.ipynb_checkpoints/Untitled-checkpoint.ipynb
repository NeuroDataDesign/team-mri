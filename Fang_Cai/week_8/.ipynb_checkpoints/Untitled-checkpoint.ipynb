{
 "cells": [
  {
   "cell_type": "markdown",
   "metadata": {},
   "source": [
    "# Use Docker to run pytests"
   ]
  },
  {
   "cell_type": "markdown",
   "metadata": {},
   "source": [
    "## Step 1: Install Docker"
   ]
  },
  {
   "cell_type": "markdown",
   "metadata": {},
   "source": [
    "install [Docker] (\"https://docs.docker.com/get-started/\") "
   ]
  },
  {
   "cell_type": "markdown",
   "metadata": {},
   "source": [
    "## Step 2: Create an Image"
   ]
  },
  {
   "cell_type": "markdown",
   "metadata": {},
   "source": [
    "1. git clone https://github.com/NeuroDataDesign/ndmg.git\n",
    "\n",
    "2. cd ndmg\n",
    "\n",
    "3. checkout docker_use\n",
    "\n",
    "4. docker build -t neurodata/fsl_1604:0.0.1 . # It will be a long time installing everything you need in running pipeline\n",
    "\n",
    "5. docker image ls # Check for the image you just created"
   ]
  },
  {
   "cell_type": "markdown",
   "metadata": {},
   "source": [
    "## Step 3: Creat a Container"
   ]
  },
  {
   "cell_type": "markdown",
   "metadata": {},
   "source": [
    "1. docker run -ti --privileged --entrypoint /bin/bash -e DISPLAY=$DISPLAY -v <absolute/path/to/ndmg/local>:/input neurodata/fsl_1604:0.0.1"
   ]
  },
  {
   "cell_type": "markdown",
   "metadata": {},
   "source": [
    "## Step 4: Pytest"
   ]
  },
  {
   "cell_type": "markdown",
   "metadata": {},
   "source": [
    "1. ls # Now you are in the env:root@<your_ContainerID>:/#. Check out for the current directory\n",
    "\n",
    "2. cd input/tests/test_scrpits\n",
    "\n",
    "3. pytest <name_of_you_pytest.py>"
   ]
  }
 ],
 "metadata": {
  "kernelspec": {
   "display_name": "Python 3",
   "language": "python",
   "name": "python3"
  },
  "language_info": {
   "codemirror_mode": {
    "name": "ipython",
    "version": 3
   },
   "file_extension": ".py",
   "mimetype": "text/x-python",
   "name": "python",
   "nbconvert_exporter": "python",
   "pygments_lexer": "ipython3",
   "version": "3.7.4"
  }
 },
 "nbformat": 4,
 "nbformat_minor": 2
}
