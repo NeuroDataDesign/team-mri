{
 "cells": [
  {
   "cell_type": "markdown",
   "metadata": {},
   "source": [
    "# Preparations of Python Implementation for FLIRT in FSL"
   ]
  },
  {
   "cell_type": "markdown",
   "metadata": {},
   "source": [
    "## Functions:"
   ]
  },
  {
   "cell_type": "markdown",
   "metadata": {},
   "source": [
    "Flirt is the main program that performs affine registration. \n",
    "\n",
    "The main options are: an input (-in) and a reference (-ref) volume; the calculated affine transformation that registers the input to the reference which is saved as a 4x4 affine matrix (-omat); and output volume (-out) where the transform is applied to the input volume to align it with the reference volume. \n",
    "\n",
    "In addition, FLIRT can also be used to apply a saved transformation to a volume (-applyxfm, -init and -out) or to apply a transform that aligns the NIFTI mm coordinates (-applyxfm, -usesqform and -out; but not -init). \n",
    "\n",
    "For these usages the reference volume must still be specified as this sets the voxel and image dimensions of the resulting volume."
   ]
  },
  {
   "cell_type": "markdown",
   "metadata": {},
   "source": [
    "## Features:"
   ]
  },
  {
   "cell_type": "markdown",
   "metadata": {},
   "source": [
    "### Cost Function Weighting"
   ]
  },
  {
   "cell_type": "markdown",
   "metadata": {},
   "source": [
    "Weighting volumes can be specified using -refweight, -inweight (or both). \n",
    "\n",
    "This allows the cost function to have a different weighting at each voxel, which is useful for excluding areas (weight=0) of no interest, or increasing the weighting around important structures such as the ventricles. \n",
    "\n",
    "Note that this is different from masking the original images, as masking introduces artificial boundaries whereas weighting does not."
   ]
  },
  {
   "cell_type": "markdown",
   "metadata": {},
   "source": [
    "### Degrees of Freedom"
   ]
  },
  {
   "cell_type": "markdown",
   "metadata": {},
   "source": [
    "Choose from 6,7,9 or 12 Degrees of Freedom (DOF) for full 3D registrations.\n",
    "\n",
    "Also includes a 3DOF 2D-to-2D registration mode which is selected using the -2D option.\n",
    "\n",
    "Note that it does not perform any search in 2D mode, and cannot deal with 2D to 3D registrations. \n",
    "\n",
    "More flexible DOF options are provided by the specific schedule files provided in $FSLDIR/etc/flirtsch."
   ]
  },
  {
   "cell_type": "markdown",
   "metadata": {},
   "source": [
    "### Interpolation Methods"
   ]
  },
  {
   "cell_type": "markdown",
   "metadata": {},
   "source": [
    "This includes Nearest Neighbour, a family of Sinc-based methods (three window types - rectangular, Hanning and Blackman) with configurable window width, and spline (a highly efficient method, with similar output characteristics to sinc). \n",
    "\n",
    "The interpolation is only used for the final transformation (and in applyxfm), not in the registration calculations."
   ]
  },
  {
   "cell_type": "markdown",
   "metadata": {},
   "source": [
    "### Cost Functions"
   ]
  },
  {
   "cell_type": "markdown",
   "metadata": {},
   "source": [
    "This includes the within-modality functions Least Squares and Normalised Correlation, as well as the between-modality functions Correlation Ratio (the default), Mutual Information and Normalised Mutual Information. \n",
    "\n",
    "In addition, there is the BBR cost function which utilises a segmentation of the reference image to define a boundary, and it is the intensity differences in the input image, across the transformed boundary, that contribute to the cost. "
   ]
  },
  {
   "cell_type": "markdown",
   "metadata": {},
   "source": [
    "## Inputs: "
   ]
  },
  {
   "cell_type": "markdown",
   "metadata": {},
   "source": [
    "compulsory: \n",
    "  \n",
    "  inp: str\n",
    "  \n",
    "   path to a nifti image for linear registration; \n",
    "   \n",
    "  ref: str\n",
    "  \n",
    "   path to a nifti image for reference;\n",
    "   \n",
    "optional: \n",
    "\n",
    "  xfm: str\n",
    "  \n",
    "   path to save the 4\\*4 affine matrix(.mat); \n",
    "   \n",
    "  out: str\n",
    "  \n",
    "   path to the aligned resulting image(.nii.gz);\n",
    "   \n",
    "  dof: int\n",
    "  \n",
    "   number of degrees of free dome of the alignment, by default 12;\n",
    "   \n",
    "  searchrad : bool\n",
    "  \n",
    "   whether to use the predefined searchradius parameter (180 degree sweep in x, y, and z), by default True;\n",
    "   \n",
    "  bins : int\n",
    "  \n",
    "   number of histogram bins, by default 256;\n",
    "    \n",
    "  interp : str\n",
    "  \n",
    "   interpolation method to be used (trilinear,nearestneighbour,sinc,spline), by default None;\n",
    "   \n",
    "  cost : str\n",
    "  \n",
    "   cost function to be used in alignment(mutualinfo, corratio, normcorr, normmi, leastsq, labeldiff, or bbr), by default \"mutualinfo\";\n",
    "   \n",
    "  sch : str\n",
    "  \n",
    "   the optional FLIRT schedule, by default None;\n",
    "   \n",
    "  wmseg : str\n",
    "  \n",
    "   an optional white-matter segmentation for bbr, by default None;\n",
    "   \n",
    "  init : str\n",
    "  \n",
    "   an initial guess of an alignment in the form of the path to a matrix file, by default None;\n",
    "   \n",
    "  finesearch : int\n",
    "  \n",
    "   angle in degrees, by default None;"
   ]
  },
  {
   "cell_type": "markdown",
   "metadata": {},
   "source": [
    "## Outputs:"
   ]
  },
  {
   "cell_type": "markdown",
   "metadata": {},
   "source": [
    "a .mat file written in 'xfm';\n",
    "\n",
    "a .nii.gz file written in 'out';\n",
    "\n",
    "FLIRT transformation matrix is an affine matrices of shape(4, 4) which encode a linear transformation from a source image to a reference image. FLIRT matrices are defined in terms of *FSL coordinates*, which is a coordinate system where voxels are scaled by pixdims, and with a left-right flip if the image \"sform\" has a positive determinant.\n",
    "\n",
    "Output nifti image is the image after linear registration."
   ]
  },
  {
   "cell_type": "markdown",
   "metadata": {},
   "source": [
    "## Plan:"
   ]
  },
  {
   "cell_type": "markdown",
   "metadata": {},
   "source": [
    "1. Affine_Registration_in_3D (done): cost function using MutualInfo\n",
    "\n",
    "2. Add cost function of Correlation Ratio\n",
    "\n",
    "3. Change dof to be 6,7,9,12 for 3D full registration\n",
    "\n",
    "4. Add function of 2D registration"
   ]
  },
  {
   "cell_type": "code",
   "execution_count": null,
   "metadata": {},
   "outputs": [],
   "source": []
  }
 ],
 "metadata": {
  "kernelspec": {
   "display_name": "Python 3",
   "language": "python",
   "name": "python3"
  },
  "language_info": {
   "codemirror_mode": {
    "name": "ipython",
    "version": 3
   },
   "file_extension": ".py",
   "mimetype": "text/x-python",
   "name": "python",
   "nbconvert_exporter": "python",
   "pygments_lexer": "ipython3",
   "version": "3.7.3"
  }
 },
 "nbformat": 4,
 "nbformat_minor": 2
}
