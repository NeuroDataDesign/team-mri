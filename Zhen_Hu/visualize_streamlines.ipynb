{
 "cells": [
  {
   "cell_type": "code",
   "execution_count": null,
   "metadata": {},
   "outputs": [],
   "source": [
    "# Glass brain connectome\n",
    "import nibabel as nib\n",
    "import numpy as np\n",
    "from fury import actor, window, colormap, ui\n",
    "from dipy.tracking.streamline import Streamlines\n",
    "import random\n",
    "\n",
    "\n",
    "# if __name__ == \"__main__\":\n",
    "if True:\n",
    "    #streamlines_mni='/Users/zhenhu/Downloads/streamlines.trk'\n",
    "    streamlines_mni = '/Users/zhenhu/Desktop/qa_fiber/streamlines.trk'\n",
    "    ch2bet = \"/Users/zhenhu/Downloads/MNI152NLin6_res-2x2x2_T1w_descr-brainmask.nii.gz\"\n",
    "    atlas = \"/Users/zhenhu/Desktop/qa_fiber/desikan_space-MNI152NLin6_res-2x2x2.nii.gz\"\n",
    "    r = window.Renderer()\n",
    "\n",
    "    template_img = nib.load(ch2bet)\n",
    "    template_img_data = template_img.get_data()\n",
    "    template_actor = actor.contour_from_roi(\n",
    "        template_img_data, color=(50, 50, 50), opacity=0.1\n",
    "    )\n",
    "    #r.add(template_actor)\n",
    "\n",
    "    atlas_img = nib.load(atlas)\n",
    "    atlas_img_data = atlas_img.get_data()\n",
    "\n",
    "    streamlines_mni_in = nib.streamlines.load(streamlines_mni).streamlines\n",
    "    streamlines_actor = actor.line(\n",
    "        streamlines_mni_in,\n",
    "        colormap.line_colors(streamlines_mni_in),\n",
    "        #colormap.create_colormap(np.zeros([len(streamlines_mni_in)]), name=\"Greys_r\", auto=True),\n",
    "        lod_points=10000,\n",
    "        depth_cue=True,\n",
    "        linewidth=0.2,\n",
    "        fake_tube=True,\n",
    "        opacity=0.3,\n",
    "    )\n",
    "    r.add(streamlines_actor)\n",
    "\n",
    "    roi_colors = np.random.rand(int(np.max(atlas_img_data)), 3)\n",
    "    parcel_contours = []\n",
    "    i = 0\n",
    "    for roi in np.unique(atlas_img_data)[1:36]:\n",
    "        parcel_contours.append(actor.contour_from_roi(atlas_img_data == roi, color=roi_colors[i], opacity=0.4))\n",
    "        i = i + 1\n",
    "\n",
    "    #for vol_actor in parcel_contours:\n",
    "         #r.add(vol_actor)\n",
    "\n",
    "    window.show(r)\n"
   ]
  },
  {
   "cell_type": "code",
   "execution_count": null,
   "metadata": {},
   "outputs": [],
   "source": []
  }
 ],
 "metadata": {
  "kernelspec": {
   "display_name": "Python 3",
   "language": "python",
   "name": "python3"
  },
  "language_info": {
   "codemirror_mode": {
    "name": "ipython",
    "version": 3
   },
   "file_extension": ".py",
   "mimetype": "text/x-python",
   "name": "python",
   "nbconvert_exporter": "python",
   "pygments_lexer": "ipython3",
   "version": "3.7.4"
  }
 },
 "nbformat": 4,
 "nbformat_minor": 2
}
