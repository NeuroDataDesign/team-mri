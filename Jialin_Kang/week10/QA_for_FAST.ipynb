{
 "cells": [
  {
   "cell_type": "markdown",
   "metadata": {},
   "source": [
    "# the function to draw 3*3 plot"
   ]
  },
  {
   "cell_type": "code",
   "execution_count": 1,
   "metadata": {},
   "outputs": [],
   "source": [
    "import warnings\n",
    "\n",
    "warnings.simplefilter(\"ignore\")\n",
    "from dipy.reconst.dti import fractional_anisotropy, color_fa\n",
    "from argparse import ArgumentParser\n",
    "from scipy import ndimage\n",
    "import os\n",
    "import re\n",
    "import numpy as np\n",
    "import nibabel as nb\n",
    "import sys\n",
    "import matplotlib\n",
    "from PIL import Image\n",
    "\n",
    "matplotlib.use(\"Agg\")  # very important above pyplot import\n",
    "import matplotlib.pyplot as plt\n",
    "import matplotlib.image as mping\n",
    "\n",
    "\n",
    "def plot_rgb(im):\n",
    "    plt.rcParams.update({\"axes.labelsize\": \"x-large\", \"axes.titlesize\": \"x-large\"})\n",
    "\n",
    "    if im.shape == (182, 218, 182):\n",
    "        x = [78, 90, 100]\n",
    "        y = [82, 107, 142]\n",
    "        z = [88, 103, 107]\n",
    "    else:\n",
    "        shap = im.shape\n",
    "        x = [int(shap[0] * 0.35), int(shap[0] * 0.51), int(shap[0] * 0.65)]\n",
    "        y = [int(shap[1] * 0.35), int(shap[1] * 0.51), int(shap[1] * 0.65)]\n",
    "        z = [int(shap[2] * 0.35), int(shap[2] * 0.51), int(shap[2] * 0.65)]\n",
    "    coords = (x, y, z)\n",
    "\n",
    "    labs = [\n",
    "        \"Sagittal Slice (YZ fixed)\",\n",
    "        \"Coronal Slice (XZ fixed)\",\n",
    "        \"Axial Slice (XY fixed)\",\n",
    "    ]\n",
    "    var = [\"X\", \"Y\", \"Z\"]\n",
    "\n",
    "    idx = 0\n",
    "    for i, coord in enumerate(coords):\n",
    "        for pos in coord:\n",
    "            idx += 1\n",
    "            ax = plt.subplot(3, 3, idx)\n",
    "            ax.set_title(var[i] + \" = \" + str(pos))\n",
    "            if i == 0:\n",
    "                image = ndimage.rotate(im[pos, :, :], 90)\n",
    "            elif i == 1:\n",
    "                image = ndimage.rotate(im[:, pos, :], 90)\n",
    "            else:\n",
    "                image = im[:, :, pos]\n",
    "\n",
    "            if idx % 3 == 1:\n",
    "                ax.set_ylabel(labs[i])\n",
    "                ax.yaxis.set_ticks([0, image.shape[0] / 2, image.shape[0] - 1])\n",
    "                ax.xaxis.set_ticks([0, image.shape[1] / 2, image.shape[1] - 1])\n",
    "\n",
    "            plt.imshow(image)\n",
    "#             image.show()\n",
    "\n",
    "\n",
    "    fig = plt.gcf()\n",
    "    fig.set_size_inches(12.5, 10.5, forward=True)\n",
    "    return fig"
   ]
  },
  {
   "cell_type": "markdown",
   "metadata": {},
   "source": [
    "# QA of witer matter, gray matter and CSF"
   ]
  },
  {
   "cell_type": "code",
   "execution_count": 2,
   "metadata": {},
   "outputs": [],
   "source": [
    "m1 = 'd:/Downloads/neurodatadesign/output_data/flirt/sub-0025864/ses-1/anat/preproc/t1w_seg_pve_0.nii.gz'\n",
    "m2 = 'd:/Downloads/neurodatadesign/output_data/flirt/sub-0025864/ses-1/anat/preproc/t1w_seg_pve_1.nii.gz'\n",
    "m3 = 'd:/Downloads/neurodatadesign/output_data/flirt/sub-0025864/ses-1/anat/preproc/t1w_seg_pve_2.nii.gz'\n",
    "n1 = nb.load(m1)\n",
    "n2 = nb.load(m2)\n",
    "n3 = nb.load(m3)\n",
    "im1 = n1.get_data()\n",
    "im2 = n2.get_data()\n",
    "im3 = n3.get_data()\n",
    "fig1 = plot_rgb(im1)\n",
    "rect = fig1.patch\n",
    "fig1.show()\n",
    "plt.savefig('e:/brain_wm.png', format=\"png\")\n",
    "fig2 = plot_rgb(im2)\n",
    "plt.savefig('e:/brain_gm.png', format=\"png\")\n",
    "fig3 = plot_rgb(im3)\n",
    "plt.savefig('e:/brain_csf.png', format=\"png\")"
   ]
  },
  {
   "cell_type": "markdown",
   "metadata": {},
   "source": [
    "# the function of overlay picture"
   ]
  },
  {
   "cell_type": "code",
   "execution_count": 4,
   "metadata": {},
   "outputs": [],
   "source": [
    "def overlay_viz(wm_input, gm_input, csf_input):\n",
    "    wm_RGB = Image.open(wm_input).convert('RGB')\n",
    "    gm_RGB = Image.open(gm_input).convert('RGB')\n",
    "    csf_RGB = Image.open(csf_input).convert('RGB')\n",
    "    r1, g1, b1 = wm_RGB.split()\n",
    "    r2, g2, b2 = gm_RGB.split()\n",
    "    r3, g3, b3 = csf_RGB.split()\n",
    "    pic = Image.merge('RGB', (r3, g1, b2))\n",
    "    pic.save('e:/overlay_pic.png')\n",
    "\n",
    "overlay_viz('e:/brain_wm.png','e:/brain_gm.png','e:/brain_csf.png')"
   ]
  }
 ],
 "metadata": {
  "kernelspec": {
   "display_name": "Python 3",
   "language": "python",
   "name": "python3"
  },
  "language_info": {
   "codemirror_mode": {
    "name": "ipython",
    "version": 3
   },
   "file_extension": ".py",
   "mimetype": "text/x-python",
   "name": "python",
   "nbconvert_exporter": "python",
   "pygments_lexer": "ipython3",
   "version": "3.7.4"
  },
  "toc": {
   "base_numbering": 1,
   "nav_menu": {},
   "number_sections": true,
   "sideBar": true,
   "skip_h1_title": false,
   "title_cell": "Table of Contents",
   "title_sidebar": "Contents",
   "toc_cell": false,
   "toc_position": {},
   "toc_section_display": true,
   "toc_window_display": false
  }
 },
 "nbformat": 4,
 "nbformat_minor": 2
}
