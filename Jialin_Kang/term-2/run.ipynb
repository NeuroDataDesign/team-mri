{
 "nbformat": 4,
 "nbformat_minor": 2,
 "metadata": {
  "language_info": {
   "name": "python",
   "codemirror_mode": {
    "name": "ipython",
    "version": 3
   },
   "version": "3.6.9-final"
  },
  "orig_nbformat": 2,
  "file_extension": ".py",
  "mimetype": "text/x-python",
  "name": "python",
  "npconvert_exporter": "python",
  "pygments_lexer": "ipython3",
  "version": 3,
  "kernelspec": {
   "name": "python36964bitcac27fe5470e49c492deb50c576d0bdf",
   "display_name": "Python 3.6.9 64-bit"
  }
 },
 "cells": [
  {
   "cell_type": "code",
   "execution_count": 3,
   "metadata": {},
   "outputs": [
    {
     "output_type": "stream",
     "name": "stdout",
     "text": "BNU1: 0.9266233766233766\nHNU1: 0.9685724688067537\nNKI1: 0.9207516339869282\nNKI24: 0.9240196078431373\nSWU4: 0.7893332628909552\n"
    }
   ],
   "source": [
    "from graphutils.graph_stats import NdmgStats\n",
    "m_1 = NdmgStats('/mnt/d/Downloads/neurodatadesign/output_data/discri/BNU1-2-8-20-m2g_staging-native-csa-det/')\n",
    "m_2 = NdmgStats('/mnt/d/Downloads/neurodatadesign/output_data/discri/HNU1-2-8-20-m2g_staging-native-csa-det/')\n",
    "m_3 = NdmgStats('/mnt/d/Downloads/neurodatadesign/output_data/discri/NKI1-2-8-20-m2g_staging-native-csa-det/')\n",
    "m_4 = NdmgStats('/mnt/d/Downloads/neurodatadesign/output_data/discri/NKI24-2-8-20-m2g_staging-native-csa-det/')\n",
    "m_5 = NdmgStats('/mnt/d/Downloads/neurodatadesign/output_data/discri/SWU4-2-8-20-m2g_staging-native-csa-det/')\n",
    "\n",
    "print('BNU1:',m_1.discriminability())\n",
    "print('HNU1:',m_2.discriminability())\n",
    "print('NKI1:',m_3.discriminability())\n",
    "print('NKI24:',m_4.discriminability())\n",
    "print('SWU4:',m_5.discriminability())"
   ]
  },
  {
   "cell_type": "code",
   "execution_count": null,
   "metadata": {},
   "outputs": [],
   "source": []
  }
 ]
}