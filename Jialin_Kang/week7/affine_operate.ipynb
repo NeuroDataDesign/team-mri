{
 "cells": [
  {
   "cell_type": "code",
   "execution_count": 18,
   "metadata": {},
   "outputs": [],
   "source": [
    "import nibabel as nib\n",
    "from dipy.viz import regtools\n",
    "import numpy as np\n",
    "import cv2\n",
    "import matplotlib.pyplot as plt\n",
    "from dipy.align.imaffine import (transform_centers_of_mass,\n",
    "                                 AffineMap,\n",
    "                                 MutualInformationMetric,\n",
    "                                 AffineRegistration)\n",
    "from dipy.align.transforms import (TranslationTransform3D,\n",
    "                                   RigidTransform3D,\n",
    "                                   AffineTransform3D)"
   ]
  },
  {
   "cell_type": "code",
   "execution_count": 20,
   "metadata": {},
   "outputs": [],
   "source": [
    "img_in = nib.load('e:/affine_operate/t1w_seg_pve_0_nores.nii.gz')\n",
    "img_ref = nib.load('e:/affine_operate/nodif_B0.nii.gz')\n",
    "img_out = nib.load('e:/affine_operate/t1w_csf_mask_dwi.nii.gz')\n",
    "init = np.loadtxt('e:/affine_operate/t1wtissue2dwi_xfm.mat')"
   ]
  },
  {
   "cell_type": "code",
   "execution_count": 36,
   "metadata": {},
   "outputs": [
    {
     "name": "stdout",
     "output_type": "stream",
     "text": [
      "[[ 1.01030130e+00  5.32921542e-02  1.87642153e-03  3.90175170e+01]\n",
      " [-5.32649674e-02  1.01022677e+00 -1.25259237e-02  9.39017734e+00]\n",
      " [-2.53348422e-03  1.24097244e-02  1.01162836e+00 -7.46153728e+01]\n",
      " [ 0.00000000e+00  0.00000000e+00  0.00000000e+00  1.00000000e+00]]\n",
      "<class 'dipy.align.imaffine.AffineMap'>\n",
      "[[1. 0. 0. 0.]\n",
      " [0. 1. 0. 0.]\n",
      " [0. 0. 1. 0.]\n",
      " [0. 0. 0. 1.]]\n",
      "(96, 128, 128)\n",
      "(96, 128, 128)\n",
      "(96, 128, 128)\n",
      "(141, 141, 68)\n"
     ]
    },
    {
     "data": {
      "image/png": "[encoded data removed]",
      "text/plain": [
       "<Figure size 432x288 with 3 Axes>"
      ]
     },
     "execution_count": 36,
     "metadata": {},
     "output_type": "execute_result"
    },
    {
     "data": {
      "image/png": "[encoded data removed]",
      "text/plain": [
       "<Figure size 432x288 with 3 Axes>"
      ]
     },
     "metadata": {
      "needs_background": "light"
     },
     "output_type": "display_data"
    }
   ],
   "source": [
    "img_in_arr = img_in.get_data()\n",
    "img_ref_arr = img_ref.get_data()\n",
    "pts = img_ref.shape\n",
    "# print(pts)\n",
    "# res = cv2.warpAffine(img_in_arr, init, pts)\n",
    "print(init)\n",
    "identity = np.eye(4)\n",
    "affine_map = AffineMap(identity,\n",
    "                       img_in_arr.shape, img_in.affine,\n",
    "                       img_in_arr.shape, img_in.affine)\n",
    "print(type(affine_map))\n",
    "\n",
    "print(affine_map)\n",
    "print(img_in_arr.shape)\n",
    "res_img = affine_map.transform(img_in_arr)\n",
    "print(img_in_arr.shape)\n",
    "print(res_img.shape)\n",
    "print(img_ref_arr.shape)\n",
    "regtools.overlay_slices(img_in_arr, res_img, None, 0,\n",
    "                        \"img_in\", \"res_img\")"
   ]
  },
  {
   "cell_type": "code",
   "execution_count": null,
   "metadata": {},
   "outputs": [],
   "source": []
  }
 ],
 "metadata": {
  "kernelspec": {
   "display_name": "Python 3",
   "language": "python",
   "name": "python3"
  },
  "language_info": {
   "codemirror_mode": {
    "name": "ipython",
    "version": 3
   },
   "file_extension": ".py",
   "mimetype": "text/x-python",
   "name": "python",
   "nbconvert_exporter": "python",
   "pygments_lexer": "ipython3",
   "version": "3.7.3"
  }
 },
 "nbformat": 4,
 "nbformat_minor": 2
}
