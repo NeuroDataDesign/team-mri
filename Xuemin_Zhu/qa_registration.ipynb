{
 "cells": [
  {
   "cell_type": "code",
   "execution_count": 1,
   "metadata": {},
   "outputs": [],
   "source": [
    "\n",
    "import warnings\n",
    "warnings.simplefilter(\"ignore\")\n",
    "import sys\n",
    "import nibabel as nib\n",
    "import numpy as np\n",
    "import matplotlib\n",
    "import matplotlib.pyplot as plt\n",
    "import matplotlib.image as mping\n",
    "import skimage.io as io\n",
    "import matplotlib.axes as maxes\n",
    "# import nilearn.image as nl\n",
    "import os\n",
    "import os.path as op\n",
    "#from ndmg.scripts import ndmg_dwi_pipeline"
   ]
  },
  {
   "cell_type": "code",
   "execution_count": 2,
   "metadata": {},
   "outputs": [],
   "source": [
    "input_1 = r\"/Users/xueminzhu/Desktop/test/tests_input/1.nii.gz\"\n",
    "input_2 = r\"/Users/xueminzhu/Desktop/test/tests_input/2.nii.gz\"\n",
    "output_dir = r\"/Users/xueminzhu/Desktop/test\""
   ]
  },
  {
   "cell_type": "code",
   "execution_count": 3,
   "metadata": {},
   "outputs": [],
   "source": [
    "def _tile_plot(imgs, titles, **kwargs):\n",
    "    \"\"\"\n",
    "    Helper function\n",
    "    \"\"\"\n",
    "    # Create a new figure and plot the three images\n",
    "    plt.subplots_adjust(left=None, bottom=None, right=None, top=None, wspace=1, hspace=1)\n",
    "    fig, ax = plt.subplots(3, 3)\n",
    "    k = 0\n",
    "    for i in [0, 1, 2]:\n",
    "        ax[0,0].set_ylabel('Sagittal(YZ fixed)')\n",
    "        ax[1,0].set_ylabel('Coronal(XZ fixed)')\n",
    "        ax[2,0].set_ylabel('Axial(XY fixed)')\n",
    "        for j in [0, 1, 2]:\n",
    "            #ax[i][j].set_axis_off()\n",
    "            ax[i][j].imshow(imgs[k], **kwargs)\n",
    "            ax[i][j].set_title(titles[k])\n",
    "            k = k+1\n",
    "    fig.tight_layout()\n",
    "    return fig"
   ]
  },
  {
   "cell_type": "code",
   "execution_count": 4,
   "metadata": {},
   "outputs": [],
   "source": [
    "def overlay_slices(L, R, slice_index=None, slice_type=1, ltitle='Left',\n",
    "                   rtitle='Right', fname=None):\n",
    "    r\"\"\"Plot three overlaid slices from the given volumes.\n",
    "    Creates a figure containing three images: the gray scale k-th slice of\n",
    "    the first volume (L) to the left, where k=slice_index, the k-th slice of\n",
    "    the second volume (R) to the right and the k-th slices of the two given\n",
    "    images on top of each other using the red channel for the first volume and\n",
    "    the green channel for the second one. It is assumed that both volumes have\n",
    "    the same shape. The intended use of this function is to visually assess the\n",
    "    quality of a registration result.\n",
    "    Parameters\n",
    "    ----------\n",
    "    L : array, shape (S, R, C)\n",
    "        the first volume to extract the slice from, plottet to the left\n",
    "    R : array, shape (S, R, C)\n",
    "        the second volume to extract the slice from, plotted to the right\n",
    "    slice_index : int (optional)\n",
    "        the index of the slices (along the axis given by slice_type) to be\n",
    "        overlaid. If None, the slice along the specified axis is used\n",
    "    slice_type : int (optional)\n",
    "        the type of slice to be extracted:\n",
    "        0=sagital, 1=coronal (default), 2=axial.\n",
    "    ltitle : string (optional)\n",
    "        the string to be written as title of the left image. By default,\n",
    "        no title is displayed.\n",
    "    rtitle : string (optional)\n",
    "        the string to be written as title of the right image. By default,\n",
    "        no title is displayed.\n",
    "    fname : string (optional)\n",
    "        the name of the file to write the image to. If None (default), the\n",
    "        figure is not saved to disk.\n",
    "    \"\"\"\n",
    "    # Normalize the intensities to [0,255]\n",
    "    sh = L.shape\n",
    "    L = np.asarray(L, dtype=np.float64)\n",
    "    R = np.asarray(R, dtype=np.float64)\n",
    "    L = 255 * (L - L.min()) / (L.max() - L.min())\n",
    "    R = 255 * (R - R.min()) / (R.max() - R.min())\n",
    "    # Create the color image to draw the overlapped slices into, and extract\n",
    "    # the slices (note the transpositions)\n",
    "    if slice_type is 0:\n",
    "        if slice_index is None:\n",
    "            slice_index = sh[0] // 2\n",
    "        colorImage = np.zeros(shape=(sh[2], sh[1], 3), dtype=np.uint8)\n",
    "        ll = np.asarray(L[slice_index, :, :]).astype(np.uint8).T\n",
    "        rr = np.asarray(R[slice_index, :, :]).astype(np.uint8).T\n",
    "    elif slice_type is 1:\n",
    "        if slice_index is None:\n",
    "            slice_index = sh[1] // 2\n",
    "        colorImage = np.zeros(shape=(sh[2], sh[0], 3), dtype=np.uint8)\n",
    "        ll = np.asarray(L[:, slice_index, :]).astype(np.uint8).T\n",
    "        rr = np.asarray(R[:, slice_index, :]).astype(np.uint8).T\n",
    "    elif slice_type is 2:\n",
    "        if slice_index is None:\n",
    "            slice_index = sh[2] // 2\n",
    "        colorImage = np.zeros(shape=(sh[1], sh[0], 3), dtype=np.uint8)\n",
    "        ll = np.asarray(L[:, :, slice_index]).astype(np.uint8).T\n",
    "        rr = np.asarray(R[:, :, slice_index]).astype(np.uint8).T\n",
    "    else:\n",
    "        print(\"Slice type must be 0, 1 or 2.\")\n",
    "        return\n",
    "    # Draw the intensity images to the appropriate channels of the color image\n",
    "    # The \"(ll > ll[0, 0])\" condition is just an attempt to eliminate the\n",
    "    # background when its intensity is not exactly zero (the [0,0] corner is\n",
    "    # usually background)\n",
    "    colorImage[..., 0] = ll * (ll > ll[0, 0])\n",
    "    colorImage[..., 1] = rr * (rr > rr[0, 0])\n",
    "    return colorImage"
   ]
  },
  {
   "cell_type": "code",
   "execution_count": 5,
   "metadata": {},
   "outputs": [],
   "source": [
    "def qa_align(inp_dir_reg, inp_dir_ref, out_dir):\n",
    "    \"\"\"\n",
    "    inp_dir_reg: directory where output tmp image registered is saved\n",
    "    inp_dir_ref: directory where input reference image is saved\n",
    "    out_dir: directory where the final result is saved\n",
    "    \"\"\"\n",
    "    # name new files\n",
    "    new_name_reg = inp_dir_reg.split('/')[-1]\n",
    "    new_name_ref = inp_dir_ref.split('/')[-1]\n",
    "    # set the output file path of overlay_qa and nifti_result\n",
    "    #out_dir_visual = \"{}/qa/reg/\".format(out_dir)\n",
    "    #out_dir_tmp_align = \"{}/qa/reg/\".format(out_dir)+\"{}\".format(new_name_reg)\n",
    "    #out_dir_tmp_ref = \"{}/qa/reg/\".format(out_dir)+\"{}\".format(new_name_ref)\n",
    "    out_dir_visual = \"{}/\".format(out_dir)\n",
    "    out_dir_tmp_align = \"{}/\".format(out_dir)+\"{}\".format(new_name_reg)\n",
    "    out_dir_tmp_ref = \"{}/\".format(out_dir)+\"{}\".format(new_name_ref)\n",
    "    \n",
    "    # load input images of registration and reference\n",
    "    img_tmp_align = nib.load(inp_dir_reg).get_data()\n",
    "    img_tmp_ref = nib.load(inp_dir_ref).get_data()\n",
    "\n",
    "    # save file\n",
    "    #nib.save(img_tmp_align, out_dir_tmp_align)\n",
    "    #nib.save(img_tmp_ref, out_dir_tmp_ref)\n",
    "    \n",
    "    # visualize using slicesdir\n",
    "    # cmd = \"slicesdir `imglob {}`\".format(out_dir_tmp_align)\n",
    "    # os.system(cmd)\n",
    "    # fig = overlay_slices(img_tmp_ref, img_tmp_align, None, 0)\n",
    "    shape = img_tmp_align.shape\n",
    "    print(shape)\n",
    "    #a = shape[0]//4\n",
    "    imgs = []\n",
    "    imgs.append(overlay_slices(img_tmp_ref, img_tmp_align, 40, 0) )\n",
    "    imgs.append(overlay_slices(img_tmp_ref, img_tmp_align, 48, 0))\n",
    "    imgs.append(overlay_slices(img_tmp_ref, img_tmp_align, 56, 0)) \n",
    "    imgs.append(overlay_slices(img_tmp_ref, img_tmp_align, 54, 1) )\n",
    "    imgs.append(overlay_slices(img_tmp_ref, img_tmp_align, 64, 1))\n",
    "    imgs.append(overlay_slices(img_tmp_ref, img_tmp_align, 74, 1)) \n",
    "    imgs.append(overlay_slices(img_tmp_ref, img_tmp_align, 54, 2) )\n",
    "    imgs.append(overlay_slices(img_tmp_ref, img_tmp_align, 64, 2))\n",
    "    imgs.append(overlay_slices(img_tmp_ref, img_tmp_align, 74, 2)) \n",
    "    return imgs"
   ]
  },
  {
   "cell_type": "code",
   "execution_count": 6,
   "metadata": {},
   "outputs": [
    {
     "name": "stdout",
     "output_type": "stream",
     "text": [
      "(91, 109, 91)\n"
     ]
    },
    {
     "data": {
      "text/plain": [
       "<function matplotlib.pyplot.show(*args, **kw)>"
      ]
     },
     "execution_count": 6,
     "metadata": {},
     "output_type": "execute_result"
    },
    {
     "data": {
      "text/plain": [
       "<Figure size 432x288 with 0 Axes>"
      ]
     },
     "metadata": {},
     "output_type": "display_data"
    },
    {
     "data": {
      "image/png": "[encoded data removed]",
      "text/plain": [
       "<Figure size 432x288 with 9 Axes>"
      ]
     },
     "metadata": {
      "needs_background": "light"
     },
     "output_type": "display_data"
    }
   ],
   "source": [
    "imgs = qa_align(input_1, input_2, output_dir)\n",
    "_tile_plot(imgs,['X=40','X=48','X=56','Y=54','Y=64','Y=74','Z=40','Z=48','Z=56'])\n",
    "#_tile_plot(imgs,['sagittal1''coronal1','axial1'])\n",
    "plt.savefig('/Users/xueminzhu/Desktop/test/test.png')\n",
    "plt.show"
   ]
  },
  {
   "cell_type": "code",
   "execution_count": null,
   "metadata": {},
   "outputs": [],
   "source": []
  }
 ],
 "metadata": {
  "kernelspec": {
   "display_name": "Python 3",
   "language": "python",
   "name": "python3"
  },
  "language_info": {
   "codemirror_mode": {
    "name": "ipython",
    "version": 3
   },
   "file_extension": ".py",
   "mimetype": "text/x-python",
   "name": "python",
   "nbconvert_exporter": "python",
   "pygments_lexer": "ipython3",
   "version": "3.7.3"
  }
 },
 "nbformat": 4,
 "nbformat_minor": 2
}
